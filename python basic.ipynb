{
    "cells": [
        {
            "metadata": {
                "collapsed": true
            },
            "cell_type": "markdown",
            "source": "# My Jupyter Notebook on IBM Watson Studio"
        },
        {
            "metadata": {},
            "cell_type": "markdown",
            "source": "**Muhammad Nur Arasy**\n<br>Data Scientist"
        },
        {
            "metadata": {},
            "cell_type": "markdown",
            "source": "*I am interested in data science because i like Analyzing and understanding data to make informed decisions.*"
        },
        {
            "metadata": {},
            "cell_type": "markdown",
            "source": "### Printing first syntax on jupyter notebook IBM"
        },
        {
            "metadata": {},
            "cell_type": "code",
            "source": "print('Hello World')",
            "execution_count": 2,
            "outputs": [
                {
                    "output_type": "stream",
                    "text": "Hello World\n",
                    "name": "stdout"
                }
            ]
        },
        {
            "metadata": {},
            "cell_type": "markdown",
            "source": "- this is my capstone for data science carreer path\n***\n__[Don't forget to check on my first website](http://www.cesindonesia.com)__\n"
        },
        {
            "metadata": {},
            "cell_type": "code",
            "source": "",
            "execution_count": null,
            "outputs": []
        }
    ],
    "metadata": {
        "kernelspec": {
            "name": "python3",
            "display_name": "Python 3.10",
            "language": "python"
        },
        "language_info": {
            "name": "python",
            "version": "3.10.6",
            "mimetype": "text/x-python",
            "codemirror_mode": {
                "name": "ipython",
                "version": 3
            },
            "pygments_lexer": "ipython3",
            "nbconvert_exporter": "python",
            "file_extension": ".py"
        }
    },
    "nbformat": 4,
    "nbformat_minor": 1
}